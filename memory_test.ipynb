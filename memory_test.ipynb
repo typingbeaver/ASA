{
 "cells": [
  {
   "cell_type": "code",
   "execution_count": 1,
   "metadata": {},
   "outputs": [],
   "source": [
    "from suffix_tree import SuffixTree\n",
    "from datasize import DataSize"
   ]
  },
  {
   "cell_type": "code",
   "execution_count": 2,
   "metadata": {},
   "outputs": [
    {
     "name": "stdout",
     "output_type": "stream",
     "text": [
      "Total size: 2.84GiB\n",
      "39192 bytes per character\n"
     ]
    }
   ],
   "source": [
    "lorum_ipsum = None\n",
    "with open(\"sample/lorum_ipsum.txt\") as file:\n",
    "    lorum_ipsum = SuffixTree(file.read())\n",
    "\n",
    "size = lorum_ipsum.get_size()\n",
    "print(f\"Total size: {DataSize(size):.2a}\")\n",
    "print(f\"{size / 77843:.0f} bytes per character\")\n"
   ]
  },
  {
   "cell_type": "code",
   "execution_count": 3,
   "metadata": {},
   "outputs": [
    {
     "name": "stdout",
     "output_type": "stream",
     "text": [
      "Total size: 433.66MiB\n",
      "15207 bytes per character\n"
     ]
    }
   ],
   "source": [
    "sars = None\n",
    "with open(\"sample/NC_045512.2.txt\") as file:\n",
    "    sars = SuffixTree(file.read())\n",
    "\n",
    "size = sars.get_size()\n",
    "print(f\"Total size: {DataSize(size):.2a}\")\n",
    "print(f\"{size / 29903:.0f} bytes per character\")\n"
   ]
  }
 ],
 "metadata": {
  "kernelspec": {
   "display_name": "Python 3.10.7 64-bit",
   "language": "python",
   "name": "python3"
  },
  "language_info": {
   "codemirror_mode": {
    "name": "ipython",
    "version": 3
   },
   "file_extension": ".py",
   "mimetype": "text/x-python",
   "name": "python",
   "nbconvert_exporter": "python",
   "pygments_lexer": "ipython3",
   "version": "3.10.7"
  },
  "orig_nbformat": 4,
  "vscode": {
   "interpreter": {
    "hash": "e7370f93d1d0cde622a1f8e1c04877d8463912d04d973331ad4851f04de6915a"
   }
  }
 },
 "nbformat": 4,
 "nbformat_minor": 2
}
