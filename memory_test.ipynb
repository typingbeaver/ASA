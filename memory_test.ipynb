{
 "cells": [
  {
   "cell_type": "code",
   "execution_count": 1,
   "metadata": {},
   "outputs": [],
   "source": [
    "import suffix_tree as suffix"
   ]
  },
  {
   "cell_type": "code",
   "execution_count": 2,
   "metadata": {},
   "outputs": [
    {
     "name": "stdout",
     "output_type": "stream",
     "text": [
      "Total size: 2.84GiB\n",
      "==> 38.27KiB per character\n"
     ]
    }
   ],
   "source": [
    "lorum_ipsum = None\n",
    "with open(\"sample/lorum_ipsum.txt\") as file:\n",
    "    lorum_ipsum = suffix.SuffixTree(file.read())\n",
    "\n",
    "lorum_ipsum.print_size()"
   ]
  },
  {
   "cell_type": "code",
   "execution_count": 3,
   "metadata": {},
   "outputs": [
    {
     "name": "stdout",
     "output_type": "stream",
     "text": [
      "Total size: 2.83GiB\n",
      "==> 38.13KiB per character\n"
     ]
    }
   ],
   "source": [
    "lorum_ipsum_array = suffix.SuffixArray(lorum_ipsum)\n",
    "lorum_ipsum_array.print_size()"
   ]
  },
  {
   "cell_type": "markdown",
   "metadata": {},
   "source": [
    "---"
   ]
  },
  {
   "cell_type": "code",
   "execution_count": 4,
   "metadata": {},
   "outputs": [
    {
     "name": "stdout",
     "output_type": "stream",
     "text": [
      "Total size: 433.66MiB\n",
      "==> 14.85KiB per character\n"
     ]
    }
   ],
   "source": [
    "sars = None\n",
    "with open(\"sample/NC_045512.2.txt\") as file:\n",
    "    sars = suffix.SuffixTree(file.read())\n",
    "\n",
    "sars.print_size()"
   ]
  },
  {
   "cell_type": "code",
   "execution_count": 5,
   "metadata": {},
   "outputs": [
    {
     "name": "stdout",
     "output_type": "stream",
     "text": [
      "Total size: 430.00MiB\n",
      "==> 14.73KiB per character\n"
     ]
    }
   ],
   "source": [
    "sars_array = suffix.SuffixArray(sars)\n",
    "sars_array.print_size()"
   ]
  }
 ],
 "metadata": {
  "kernelspec": {
   "display_name": "Python 3.10.7 64-bit",
   "language": "python",
   "name": "python3"
  },
  "language_info": {
   "codemirror_mode": {
    "name": "ipython",
    "version": 3
   },
   "file_extension": ".py",
   "mimetype": "text/x-python",
   "name": "python",
   "nbconvert_exporter": "python",
   "pygments_lexer": "ipython3",
   "version": "3.10.8"
  },
  "orig_nbformat": 4,
  "vscode": {
   "interpreter": {
    "hash": "e7370f93d1d0cde622a1f8e1c04877d8463912d04d973331ad4851f04de6915a"
   }
  }
 },
 "nbformat": 4,
 "nbformat_minor": 2
}
