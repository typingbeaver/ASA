{
 "cells": [
  {
   "cell_type": "markdown",
   "metadata": {},
   "source": [
    "# Algorithmen zur Sequenzanalyse\n",
    "\n",
    "## Aufgabe 7 (Implementierung Suffix Tree)\n",
    "Implementieren Sie den in der Vorlesung vorgestellten kompakten Suffix-Baum (Algorithmus 1.8 + entsprechende Suche) in einer Programmiersprache Ihrer Wahl. Testen Sie Ihre Implementierung an einfachen Beispielen oder an Beispielen aus der Vorlesung.\n",
    "\n",
    "### Aufgabe 7a (Suche im Suffixbaum)\n",
    "Implementieren Sie auf Basis der Suffixbaumimplementierung (Aufgabe 7) eine korrekte Variante der Suche im Suffixbaum.\n",
    "\n",
    "### Aufgabe 7b (Längste Wiederholung)\n",
    "Implementieren Sie unter Zuhilfenahme des Suffixbaumes  (Aufgabe 7) eine Methode zur Bestimmung der längsten Wiederholung in einem Text.\n"
   ]
  },
  {
   "cell_type": "markdown",
   "metadata": {},
   "source": [
    "---\n",
    "## Lösung zu Aufgabe 7"
   ]
  },
  {
   "cell_type": "code",
   "execution_count": 1,
   "metadata": {},
   "outputs": [],
   "source": [
    "from suffix_tree import SuffixTree"
   ]
  },
  {
   "cell_type": "code",
   "execution_count": 2,
   "metadata": {},
   "outputs": [
    {
     "name": "stdout",
     "output_type": "stream",
     "text": [
      "Inserting suffix abcababc$\n",
      "No matching edge found.\n",
      "Returning node for insertion.\n",
      "Inserted edge abcababc$ with end node [1]\n",
      "\n",
      "Inserting suffix bcababc$\n",
      "No matching edge found.\n",
      "Returning node for insertion.\n",
      "Inserted edge bcababc$ with end node [2]\n",
      "\n",
      "Inserting suffix cababc$\n",
      "No matching edge found.\n",
      "Returning node for insertion.\n",
      "Inserted edge cababc$ with end node [3]\n",
      "\n",
      "Inserting suffix ababc$\n",
      "Found prefix of size 2: edge = 'abcababc$', ab\n",
      "Splitting edge = 'abcababc$' into 'ab' / 'cababc$'\n",
      "Inserted edge abc$ with end node [4]\n",
      "\n",
      "Inserting suffix babc$\n",
      "Found prefix of size 1: edge = 'bcababc$', b\n",
      "Splitting edge = 'bcababc$' into 'b' / 'cababc$'\n",
      "Inserted edge abc$ with end node [5]\n",
      "\n",
      "Inserting suffix abc$\n",
      "Found prefix of size 2: edge = 'ab', ab\n",
      "Digging deeper on edge = 'ab'...\n",
      "Found prefix of size 1: edge = 'cababc$', c\n",
      "Splitting edge = 'cababc$' into 'c' / 'ababc$'\n",
      "Inserted edge $ with end node [6]\n",
      "\n",
      "Inserting suffix bc$\n",
      "Found prefix of size 1: edge = 'b', b\n",
      "Digging deeper on edge = 'b'...\n",
      "Found prefix of size 1: edge = 'cababc$', c\n",
      "Splitting edge = 'cababc$' into 'c' / 'ababc$'\n",
      "Inserted edge $ with end node [7]\n",
      "\n",
      "Inserting suffix c$\n",
      "Found prefix of size 1: edge = 'cababc$', c\n",
      "Splitting edge = 'cababc$' into 'c' / 'ababc$'\n",
      "Inserted edge $ with end node [8]\n",
      "\n"
     ]
    }
   ],
   "source": [
    "suffix_tree = SuffixTree(\"abcababc\")"
   ]
  },
  {
   "cell_type": "code",
   "execution_count": 3,
   "metadata": {},
   "outputs": [
    {
     "name": "stdout",
     "output_type": "stream",
     "text": [
      "{\n",
      "    \"ab\": {\n",
      "        \"abc$\": 4,\n",
      "        \"c\": {\n",
      "            \"$\": 6,\n",
      "            \"ababc$\": 1\n",
      "        }\n",
      "    },\n",
      "    \"b\": {\n",
      "        \"abc$\": 5,\n",
      "        \"c\": {\n",
      "            \"$\": 7,\n",
      "            \"ababc$\": 2\n",
      "        }\n",
      "    },\n",
      "    \"c\": {\n",
      "        \"$\": 8,\n",
      "        \"ababc$\": 3\n",
      "    }\n",
      "}\n"
     ]
    }
   ],
   "source": [
    "print(suffix_tree)"
   ]
  },
  {
   "cell_type": "markdown",
   "metadata": {},
   "source": [
    "### Lösung zu 7a"
   ]
  },
  {
   "cell_type": "code",
   "execution_count": 4,
   "metadata": {},
   "outputs": [
    {
     "name": "stdout",
     "output_type": "stream",
     "text": [
      "Found 'abc' in path 'ababc$. Adding index 4.\n",
      "Found 'abc' in path 'abcababc$. Adding index 1.\n",
      "Found 'abc' in path 'abc$. Adding index 6.\n",
      "Found 'abc' in path 'babc$. Adding index 5.\n",
      "Found 'abc' in path 'bcababc$. Adding index 2.\n",
      "Found 'abc' in path 'cababc$. Adding index 3.\n"
     ]
    },
    {
     "data": {
      "text/plain": [
       "[4, 1, 6, 5, 2, 3]"
      ]
     },
     "execution_count": 4,
     "metadata": {},
     "output_type": "execute_result"
    }
   ],
   "source": [
    "suffix_tree.find_pattern(\"abc\")"
   ]
  },
  {
   "cell_type": "code",
   "execution_count": 5,
   "metadata": {},
   "outputs": [
    {
     "data": {
      "text/plain": [
       "[]"
      ]
     },
     "execution_count": 5,
     "metadata": {},
     "output_type": "execute_result"
    }
   ],
   "source": [
    "suffix_tree.find_pattern(\"ac\")"
   ]
  },
  {
   "cell_type": "markdown",
   "metadata": {},
   "source": [
    "### Lösung zu 7b"
   ]
  },
  {
   "cell_type": "code",
   "execution_count": 6,
   "metadata": {},
   "outputs": [],
   "source": [
    "pass"
   ]
  }
 ],
 "metadata": {
  "kernelspec": {
   "display_name": "Python 3.10.7 64-bit",
   "language": "python",
   "name": "python3"
  },
  "language_info": {
   "codemirror_mode": {
    "name": "ipython",
    "version": 3
   },
   "file_extension": ".py",
   "mimetype": "text/x-python",
   "name": "python",
   "nbconvert_exporter": "python",
   "pygments_lexer": "ipython3",
   "version": "3.10.7"
  },
  "orig_nbformat": 4,
  "vscode": {
   "interpreter": {
    "hash": "e7370f93d1d0cde622a1f8e1c04877d8463912d04d973331ad4851f04de6915a"
   }
  }
 },
 "nbformat": 4,
 "nbformat_minor": 2
}
