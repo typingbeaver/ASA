{
 "cells": [
  {
   "cell_type": "markdown",
   "metadata": {},
   "source": [
    "# Suffix Tree"
   ]
  },
  {
   "cell_type": "code",
   "execution_count": 1,
   "metadata": {},
   "outputs": [],
   "source": [
    "from suffix_tree import SuffixTree"
   ]
  },
  {
   "cell_type": "markdown",
   "metadata": {},
   "source": [
    "## Construction"
   ]
  },
  {
   "cell_type": "code",
   "execution_count": 2,
   "metadata": {},
   "outputs": [
    {
     "name": "stdout",
     "output_type": "stream",
     "text": [
      "Inserting suffix mississippi$\n",
      "No matching edge found.\n",
      "Returning node for insertion.\n",
      "Inserted edge mississippi$ with end node [1]\n",
      "\n",
      "Inserting suffix ississippi$\n",
      "No matching edge found.\n",
      "Returning node for insertion.\n",
      "Inserted edge ississippi$ with end node [2]\n",
      "\n",
      "Inserting suffix ssissippi$\n",
      "No matching edge found.\n",
      "Returning node for insertion.\n",
      "Inserted edge ssissippi$ with end node [3]\n",
      "\n",
      "Inserting suffix sissippi$\n",
      "Found prefix of size 1: edge = 'ssissippi$', s\n",
      "Splitting edge = 'ssissippi$' into 's' / 'sissippi$'\n",
      "Inserted edge issippi$ with end node [4]\n",
      "\n",
      "Inserting suffix issippi$\n",
      "Found prefix of size 4: edge = 'ississippi$', issi\n",
      "Splitting edge = 'ississippi$' into 'issi' / 'ssippi$'\n",
      "Inserted edge ppi$ with end node [5]\n",
      "\n",
      "Inserting suffix ssippi$\n",
      "Found prefix of size 1: edge = 's', s\n",
      "Digging deeper on edge = 's'...\n",
      "Found prefix of size 2: edge = 'sissippi$', si\n",
      "Splitting edge = 'sissippi$' into 'si' / 'ssippi$'\n",
      "Inserted edge ppi$ with end node [6]\n",
      "\n",
      "Inserting suffix sippi$\n",
      "Found prefix of size 1: edge = 's', s\n",
      "Digging deeper on edge = 's'...\n",
      "Found prefix of size 1: edge = 'issippi$', i\n",
      "Splitting edge = 'issippi$' into 'i' / 'ssippi$'\n",
      "Inserted edge ppi$ with end node [7]\n",
      "\n",
      "Inserting suffix ippi$\n",
      "Found prefix of size 1: edge = 'issi', i\n",
      "Splitting edge = 'issi' into 'i' / 'ssi'\n",
      "Inserted edge ppi$ with end node [8]\n",
      "\n",
      "Inserting suffix ppi$\n",
      "No matching edge found.\n",
      "Returning node for insertion.\n",
      "Inserted edge ppi$ with end node [9]\n",
      "\n",
      "Inserting suffix pi$\n",
      "Found prefix of size 1: edge = 'ppi$', p\n",
      "Splitting edge = 'ppi$' into 'p' / 'pi$'\n",
      "Inserted edge i$ with end node [10]\n",
      "\n",
      "Inserting suffix i$\n",
      "Found prefix of size 1: edge = 'i', i\n",
      "Digging deeper on edge = 'i'...\n",
      "No matching edge found.\n",
      "Returning node for insertion.\n",
      "Inserted edge $ with end node [11]\n",
      "\n"
     ]
    }
   ],
   "source": [
    "st = SuffixTree(\"mississippi\")"
   ]
  },
  {
   "cell_type": "code",
   "execution_count": 3,
   "metadata": {},
   "outputs": [
    {
     "name": "stdout",
     "output_type": "stream",
     "text": [
      "{\n",
      "    \"i\": {\n",
      "        \"$\": 11,\n",
      "        \"ppi$\": 8,\n",
      "        \"ssi\": {\n",
      "            \"ppi$\": 5,\n",
      "            \"ssippi$\": 2\n",
      "        }\n",
      "    },\n",
      "    \"mississippi$\": 1,\n",
      "    \"p\": {\n",
      "        \"i$\": 10,\n",
      "        \"pi$\": 9\n",
      "    },\n",
      "    \"s\": {\n",
      "        \"i\": {\n",
      "            \"ppi$\": 7,\n",
      "            \"ssippi$\": 4\n",
      "        },\n",
      "        \"si\": {\n",
      "            \"ppi$\": 6,\n",
      "            \"ssippi$\": 3\n",
      "        }\n",
      "    }\n",
      "}\n"
     ]
    }
   ],
   "source": [
    "print(st)"
   ]
  },
  {
   "cell_type": "markdown",
   "metadata": {},
   "source": [
    "## Pattern Search"
   ]
  },
  {
   "cell_type": "code",
   "execution_count": 4,
   "metadata": {},
   "outputs": [
    {
     "name": "stdout",
     "output_type": "stream",
     "text": [
      "Found 'ippi' in path 'mississippi$. Adding index 1.\n",
      "Found 'ippi' in path 'ssissippi$. Adding index 3.\n",
      "Found 'ippi' in path 'ssippi$. Adding index 6.\n",
      "Found 'ippi' in path 'sissippi$. Adding index 4.\n",
      "Found 'ippi' in path 'sippi$. Adding index 7.\n",
      "Found 'ippi' in path 'ississippi$. Adding index 2.\n",
      "Found 'ippi' in path 'issippi$. Adding index 5.\n",
      "Found 'ippi' in path 'ippi$. Adding index 8.\n"
     ]
    },
    {
     "data": {
      "text/plain": [
       "[1, 3, 6, 4, 7, 2, 5, 8]"
      ]
     },
     "execution_count": 4,
     "metadata": {},
     "output_type": "execute_result"
    }
   ],
   "source": [
    "st.find_pattern(\"ippi\")"
   ]
  },
  {
   "cell_type": "code",
   "execution_count": 5,
   "metadata": {},
   "outputs": [
    {
     "name": "stdout",
     "output_type": "stream",
     "text": [
      "Found 'mi' in path 'mississippi$. Adding index 1.\n"
     ]
    },
    {
     "data": {
      "text/plain": [
       "[1]"
      ]
     },
     "execution_count": 5,
     "metadata": {},
     "output_type": "execute_result"
    }
   ],
   "source": [
    "st.find_pattern(\"mi\")"
   ]
  },
  {
   "cell_type": "markdown",
   "metadata": {},
   "source": [
    "## Longest Repeated Substring"
   ]
  },
  {
   "cell_type": "code",
   "execution_count": 6,
   "metadata": {},
   "outputs": [],
   "source": [
    "pass"
   ]
  },
  {
   "cell_type": "markdown",
   "metadata": {},
   "source": [
    "## Memory Size"
   ]
  },
  {
   "cell_type": "code",
   "execution_count": 7,
   "metadata": {},
   "outputs": [
    {
     "name": "stdout",
     "output_type": "stream",
     "text": [
      "555 bytes\n"
     ]
    }
   ],
   "source": [
    "print(f\"{st.get_size()} bytes\")"
   ]
  },
  {
   "cell_type": "markdown",
   "metadata": {
    "collapsed": false
   },
   "source": [
    "## Suffix Array (from Tree)"
   ]
  },
  {
   "cell_type": "code",
   "execution_count": 8,
   "metadata": {
    "collapsed": false
   },
   "outputs": [
    {
     "data": {
      "text/plain": [
       "OrderedDict([(11, 'i$'),\n",
       "             (8, 'ippi$'),\n",
       "             (5, 'issippi$'),\n",
       "             (2, 'ississippi$'),\n",
       "             (1, 'mississippi$'),\n",
       "             (10, 'pi$'),\n",
       "             (9, 'ppi$'),\n",
       "             (7, 'sippi$'),\n",
       "             (4, 'sissippi$'),\n",
       "             (6, 'ssippi$'),\n",
       "             (3, 'ssissippi$')])"
      ]
     },
     "execution_count": 8,
     "metadata": {},
     "output_type": "execute_result"
    }
   ],
   "source": [
    "st.get_array()"
   ]
  }
 ],
 "metadata": {
  "kernelspec": {
   "display_name": "Python 3.10.7 64-bit",
   "language": "python",
   "name": "python3"
  },
  "language_info": {
   "codemirror_mode": {
    "name": "ipython",
    "version": 3
   },
   "file_extension": ".py",
   "mimetype": "text/x-python",
   "name": "python",
   "nbconvert_exporter": "python",
   "pygments_lexer": "ipython3",
   "version": "3.10.7"
  },
  "orig_nbformat": 4,
  "vscode": {
   "interpreter": {
    "hash": "e7370f93d1d0cde622a1f8e1c04877d8463912d04d973331ad4851f04de6915a"
   }
  }
 },
 "nbformat": 4,
 "nbformat_minor": 2
}
