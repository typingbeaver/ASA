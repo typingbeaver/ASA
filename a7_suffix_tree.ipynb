{
 "cells": [
  {
   "cell_type": "markdown",
   "metadata": {},
   "source": [
    "# Algorithmen zur Sequenzanalyse\n",
    "\n",
    "## Aufgabe 7 (Implementierung Suffix Tree)\n",
    "Implementieren Sie den in der Vorlesung vorgestellten kompakten Suffix-Baum (Algorithmus 1.8 + entsprechende Suche) in einer Programmiersprache Ihrer Wahl. Testen Sie Ihre Implementierung an einfachen Beispielen oder an Beispielen aus der Vorlesung.\n",
    "\n",
    "### Aufgabe 7a (Suche im Suffixbaum)\n",
    "Implementieren Sie auf Basis der Suffixbaumimplementierung (Aufgabe 7) eine korrekte Variante der Suche im Suffixbaum.\n",
    "\n",
    "### Aufgabe 7b (Längste Wiederholung)\n",
    "Implementieren Sie unter Zuhilfenahme des Suffixbaumes  (Aufgabe 7) eine Methode zur Bestimmung der längsten Wiederholung in einem Text.\n"
   ]
  },
  {
   "cell_type": "markdown",
   "metadata": {},
   "source": [
    "---\n",
    "## Lösung zu Aufgabe 7"
   ]
  },
  {
   "cell_type": "code",
   "execution_count": 1,
   "metadata": {},
   "outputs": [],
   "source": [
    "from suffix_tree import SuffixTree"
   ]
  },
  {
   "cell_type": "code",
   "execution_count": 2,
   "metadata": {},
   "outputs": [
    {
     "name": "stdout",
     "output_type": "stream",
     "text": [
      "Inserting suffix abcababc$\n",
      "No matching edge found.\n",
      "Returning node for insertion.\n",
      "Inserted edge abcababc$ with end node [1]\n",
      "\n",
      "Inserting suffix bcababc$\n",
      "No matching edge found.\n",
      "Returning node for insertion.\n",
      "Inserted edge bcababc$ with end node [2]\n",
      "\n",
      "Inserting suffix cababc$\n",
      "No matching edge found.\n",
      "Returning node for insertion.\n",
      "Inserted edge cababc$ with end node [3]\n",
      "\n",
      "Inserting suffix ababc$\n",
      "Found prefix of size 2: edge = 'abcababc$', ab\n",
      "Splitting edge = 'abcababc$' into 'ab' / 'cababc$'\n",
      "Inserted edge abc$ with end node [4]\n",
      "\n",
      "Inserting suffix babc$\n",
      "Found prefix of size 1: edge = 'bcababc$', b\n",
      "Splitting edge = 'bcababc$' into 'b' / 'cababc$'\n",
      "Inserted edge abc$ with end node [5]\n",
      "\n",
      "Inserting suffix abc$\n",
      "Found prefix of size 2: edge = 'ab', ab\n",
      "Digging deeper on edge = 'ab'...\n",
      "Found prefix of size 1: edge = 'cababc$', c\n",
      "Splitting edge = 'cababc$' into 'c' / 'ababc$'\n",
      "Inserted edge $ with end node [6]\n",
      "\n",
      "Inserting suffix bc$\n",
      "Found prefix of size 1: edge = 'b', b\n",
      "Digging deeper on edge = 'b'...\n",
      "Found prefix of size 1: edge = 'cababc$', c\n",
      "Splitting edge = 'cababc$' into 'c' / 'ababc$'\n",
      "Inserted edge $ with end node [7]\n",
      "\n",
      "Inserting suffix c$\n",
      "Found prefix of size 1: edge = 'cababc$', c\n",
      "Splitting edge = 'cababc$' into 'c' / 'ababc$'\n",
      "Inserted edge $ with end node [8]\n",
      "\n"
     ]
    }
   ],
   "source": [
    "suffix_tree = SuffixTree(\"abcababc\")"
   ]
  },
  {
   "cell_type": "code",
   "execution_count": 3,
   "metadata": {},
   "outputs": [
    {
     "name": "stdout",
     "output_type": "stream",
     "text": [
      "{\n",
      "    \"ab\": {\n",
      "        \"abc$\": 4,\n",
      "        \"c\": {\n",
      "            \"$\": 6,\n",
      "            \"ababc$\": 1\n",
      "        }\n",
      "    },\n",
      "    \"b\": {\n",
      "        \"abc$\": 5,\n",
      "        \"c\": {\n",
      "            \"$\": 7,\n",
      "            \"ababc$\": 2\n",
      "        }\n",
      "    },\n",
      "    \"c\": {\n",
      "        \"$\": 8,\n",
      "        \"ababc$\": 3\n",
      "    }\n",
      "}\n"
     ]
    }
   ],
   "source": [
    "print(suffix_tree)"
   ]
  },
  {
   "cell_type": "markdown",
   "metadata": {},
   "source": [
    "### Lösung zu 7a"
   ]
  },
  {
   "cell_type": "code",
   "execution_count": 4,
   "metadata": {},
   "outputs": [
    {
     "name": "stdout",
     "output_type": "stream",
     "text": [
      "Found 'abc' in path 'ababc$. Adding index 4.\n",
      "Found 'abc' in path 'abcababc$. Adding index 1.\n",
      "Found 'abc' in path 'abc$. Adding index 6.\n",
      "Found 'abc' in path 'babc$. Adding index 5.\n",
      "Found 'abc' in path 'bcababc$. Adding index 2.\n",
      "Found 'abc' in path 'cababc$. Adding index 3.\n"
     ]
    },
    {
     "data": {
      "text/plain": "[4, 1, 6, 5, 2, 3]"
     },
     "execution_count": 4,
     "metadata": {},
     "output_type": "execute_result"
    }
   ],
   "source": [
    "suffix_tree.find_pattern(\"abc\")"
   ]
  },
  {
   "cell_type": "code",
   "execution_count": 5,
   "metadata": {},
   "outputs": [
    {
     "data": {
      "text/plain": "[]"
     },
     "execution_count": 5,
     "metadata": {},
     "output_type": "execute_result"
    }
   ],
   "source": [
    "suffix_tree.find_pattern(\"ac\")"
   ]
  },
  {
   "cell_type": "markdown",
   "metadata": {},
   "source": [
    "### Lösung zu 7b"
   ]
  },
  {
   "cell_type": "code",
   "execution_count": 6,
   "metadata": {},
   "outputs": [],
   "source": [
    "pass"
   ]
  },
  {
   "cell_type": "markdown",
   "source": [
    "### Erstellung eines Suffix Arrays aus dem Suffix Baum\n"
   ],
   "metadata": {
    "collapsed": false
   }
  },
  {
   "cell_type": "code",
   "execution_count": 7,
   "outputs": [
    {
     "name": "stdout",
     "output_type": "stream",
     "text": [
      "Inserting suffix mississippi$\n",
      "No matching edge found.\n",
      "Returning node for insertion.\n",
      "Inserted edge mississippi$ with end node [1]\n",
      "\n",
      "Inserting suffix ississippi$\n",
      "No matching edge found.\n",
      "Returning node for insertion.\n",
      "Inserted edge ississippi$ with end node [2]\n",
      "\n",
      "Inserting suffix ssissippi$\n",
      "No matching edge found.\n",
      "Returning node for insertion.\n",
      "Inserted edge ssissippi$ with end node [3]\n",
      "\n",
      "Inserting suffix sissippi$\n",
      "Found prefix of size 1: edge = 'ssissippi$', s\n",
      "Splitting edge = 'ssissippi$' into 's' / 'sissippi$'\n",
      "Inserted edge issippi$ with end node [4]\n",
      "\n",
      "Inserting suffix issippi$\n",
      "Found prefix of size 4: edge = 'ississippi$', issi\n",
      "Splitting edge = 'ississippi$' into 'issi' / 'ssippi$'\n",
      "Inserted edge ppi$ with end node [5]\n",
      "\n",
      "Inserting suffix ssippi$\n",
      "Found prefix of size 1: edge = 's', s\n",
      "Digging deeper on edge = 's'...\n",
      "Found prefix of size 2: edge = 'sissippi$', si\n",
      "Splitting edge = 'sissippi$' into 'si' / 'ssippi$'\n",
      "Inserted edge ppi$ with end node [6]\n",
      "\n",
      "Inserting suffix sippi$\n",
      "Found prefix of size 1: edge = 's', s\n",
      "Digging deeper on edge = 's'...\n",
      "Found prefix of size 1: edge = 'issippi$', i\n",
      "Splitting edge = 'issippi$' into 'i' / 'ssippi$'\n",
      "Inserted edge ppi$ with end node [7]\n",
      "\n",
      "Inserting suffix ippi$\n",
      "Found prefix of size 1: edge = 'issi', i\n",
      "Splitting edge = 'issi' into 'i' / 'ssi'\n",
      "Inserted edge ppi$ with end node [8]\n",
      "\n",
      "Inserting suffix ppi$\n",
      "No matching edge found.\n",
      "Returning node for insertion.\n",
      "Inserted edge ppi$ with end node [9]\n",
      "\n",
      "Inserting suffix pi$\n",
      "Found prefix of size 1: edge = 'ppi$', p\n",
      "Splitting edge = 'ppi$' into 'p' / 'pi$'\n",
      "Inserted edge i$ with end node [10]\n",
      "\n",
      "Inserting suffix i$\n",
      "Found prefix of size 1: edge = 'i', i\n",
      "Digging deeper on edge = 'i'...\n",
      "No matching edge found.\n",
      "Returning node for insertion.\n",
      "Inserted edge $ with end node [11]\n",
      "\n",
      "{11: 'i$', 8: 'ippi$', 5: 'issippi$', 2: 'ississippi$', 1: 'mississippi$', 10: 'pi$', 9: 'ppi$', 7: 'sippi$', 4: 'sissippi$', 6: 'ssippi$', 3: 'ssissippi$'}\n"
     ]
    }
   ],
   "source": [
    "missouri = SuffixTree('mississippi')\n",
    "print(missouri.get_suffix_array())"
   ],
   "metadata": {
    "collapsed": false
   }
  },
  {
   "cell_type": "code",
   "execution_count": 7,
   "outputs": [],
   "source": [],
   "metadata": {
    "collapsed": false
   }
  },
  {
   "cell_type": "code",
   "execution_count": 7,
   "outputs": [],
   "source": [],
   "metadata": {
    "collapsed": false
   }
  },
  {
   "cell_type": "code",
   "execution_count": 7,
   "outputs": [],
   "source": [],
   "metadata": {
    "collapsed": false
   }
  },
  {
   "cell_type": "code",
   "execution_count": 7,
   "outputs": [],
   "source": [],
   "metadata": {
    "collapsed": false
   }
  }
 ],
 "metadata": {
  "kernelspec": {
   "display_name": "Python 3.10.7 64-bit",
   "language": "python",
   "name": "python3"
  },
  "language_info": {
   "codemirror_mode": {
    "name": "ipython",
    "version": 3
   },
   "file_extension": ".py",
   "mimetype": "text/x-python",
   "name": "python",
   "nbconvert_exporter": "python",
   "pygments_lexer": "ipython3",
   "version": "3.10.7"
  },
  "orig_nbformat": 4,
  "vscode": {
   "interpreter": {
    "hash": "e7370f93d1d0cde622a1f8e1c04877d8463912d04d973331ad4851f04de6915a"
   }
  }
 },
 "nbformat": 4,
 "nbformat_minor": 2
}
