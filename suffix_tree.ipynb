{
 "cells": [
  {
   "cell_type": "markdown",
   "metadata": {},
   "source": [
    "# Suffix Tree"
   ]
  },
  {
   "cell_type": "code",
   "execution_count": 9,
   "metadata": {},
   "outputs": [],
   "source": [
    "from suffix_tree import SuffixTree"
   ]
  },
  {
   "cell_type": "markdown",
   "metadata": {},
   "source": [
    "## Construction"
   ]
  },
  {
   "cell_type": "code",
   "execution_count": 10,
   "metadata": {},
   "outputs": [
    {
     "name": "stdout",
     "output_type": "stream",
     "text": [
      "{\n",
      "    \"i\": {\n",
      "        \"$\": 11,\n",
      "        \"ppi$\": 8,\n",
      "        \"ssi\": {\n",
      "            \"ppi$\": 5,\n",
      "            \"ssippi$\": 2\n",
      "        }\n",
      "    },\n",
      "    \"mississippi$\": 1,\n",
      "    \"p\": {\n",
      "        \"i$\": 10,\n",
      "        \"pi$\": 9\n",
      "    },\n",
      "    \"s\": {\n",
      "        \"i\": {\n",
      "            \"ppi$\": 7,\n",
      "            \"ssippi$\": 4\n",
      "        },\n",
      "        \"si\": {\n",
      "            \"ppi$\": 6,\n",
      "            \"ssippi$\": 3\n",
      "        }\n",
      "    }\n",
      "}\n"
     ]
    }
   ],
   "source": [
    "st = SuffixTree(\"mississippi\")\n",
    "print(st)"
   ]
  },
  {
   "cell_type": "markdown",
   "metadata": {},
   "source": [
    "## Pattern Search"
   ]
  },
  {
   "cell_type": "code",
   "execution_count": 11,
   "metadata": {},
   "outputs": [
    {
     "name": "stdout",
     "output_type": "stream",
     "text": [
      "'si' found in suffix 'sissippi$' with index 4.\n",
      "'si' found in suffix 'sippi$' with index 7.\n"
     ]
    },
    {
     "data": {
      "text/plain": [
       "[4, 7]"
      ]
     },
     "execution_count": 11,
     "metadata": {},
     "output_type": "execute_result"
    }
   ],
   "source": [
    "st.find_pattern(\"si\")"
   ]
  },
  {
   "cell_type": "code",
   "execution_count": 12,
   "metadata": {},
   "outputs": [
    {
     "name": "stdout",
     "output_type": "stream",
     "text": [
      "'mi' found in suffix 'mississippi$' with index 1.\n"
     ]
    },
    {
     "data": {
      "text/plain": [
       "[1]"
      ]
     },
     "execution_count": 12,
     "metadata": {},
     "output_type": "execute_result"
    }
   ],
   "source": [
    "st.find_pattern(\"mi\")"
   ]
  },
  {
   "cell_type": "markdown",
   "metadata": {},
   "source": [
    "## Longest Repeated Substring"
   ]
  },
  {
   "cell_type": "code",
   "execution_count": 13,
   "metadata": {},
   "outputs": [
    {
     "data": {
      "text/plain": [
       "'issi'"
      ]
     },
     "execution_count": 13,
     "metadata": {},
     "output_type": "execute_result"
    }
   ],
   "source": [
    "st.get_longest_repetition()"
   ]
  },
  {
   "cell_type": "markdown",
   "metadata": {},
   "source": [
    "## Memory Size"
   ]
  },
  {
   "cell_type": "code",
   "execution_count": 14,
   "metadata": {},
   "outputs": [
    {
     "name": "stdout",
     "output_type": "stream",
     "text": [
      "2845 bytes\n"
     ]
    }
   ],
   "source": [
    "print(f\"{st.get_size()} bytes\")"
   ]
  },
  {
   "cell_type": "markdown",
   "metadata": {
    "collapsed": false
   },
   "source": [
    "## Suffix Array (from Tree)"
   ]
  },
  {
   "cell_type": "code",
   "execution_count": 15,
   "metadata": {
    "collapsed": false
   },
   "outputs": [
    {
     "data": {
      "text/plain": [
       "OrderedDict([(11, 'i$'),\n",
       "             (8, 'ippi$'),\n",
       "             (5, 'issippi$'),\n",
       "             (2, 'ississippi$'),\n",
       "             (1, 'mississippi$'),\n",
       "             (10, 'pi$'),\n",
       "             (9, 'ppi$'),\n",
       "             (7, 'sippi$'),\n",
       "             (4, 'sissippi$'),\n",
       "             (6, 'ssippi$'),\n",
       "             (3, 'ssissippi$')])"
      ]
     },
     "execution_count": 15,
     "metadata": {},
     "output_type": "execute_result"
    }
   ],
   "source": [
    "st.get_array()"
   ]
  }
 ],
 "metadata": {
  "kernelspec": {
   "display_name": "Python 3.10.7 64-bit",
   "language": "python",
   "name": "python3"
  },
  "language_info": {
   "codemirror_mode": {
    "name": "ipython",
    "version": 3
   },
   "file_extension": ".py",
   "mimetype": "text/x-python",
   "name": "python",
   "nbconvert_exporter": "python",
   "pygments_lexer": "ipython3",
   "version": "3.10.7"
  },
  "orig_nbformat": 4,
  "vscode": {
   "interpreter": {
    "hash": "e7370f93d1d0cde622a1f8e1c04877d8463912d04d973331ad4851f04de6915a"
   }
  }
 },
 "nbformat": 4,
 "nbformat_minor": 2
}
