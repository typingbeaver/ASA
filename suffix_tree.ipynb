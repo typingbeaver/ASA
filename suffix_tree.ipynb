{
 "cells": [
  {
   "cell_type": "markdown",
   "metadata": {},
   "source": [
    "# Suffix Tree"
   ]
  },
  {
   "cell_type": "code",
   "execution_count": 1,
   "metadata": {},
   "outputs": [],
   "source": [
    "import suffix_tree as suffix"
   ]
  },
  {
   "cell_type": "markdown",
   "metadata": {},
   "source": [
    "## Construction"
   ]
  },
  {
   "cell_type": "code",
   "execution_count": 2,
   "metadata": {},
   "outputs": [
    {
     "name": "stdout",
     "output_type": "stream",
     "text": [
      "{\n",
      "    \"mississippi$\": 1,\n",
      "    \"s\": {\n",
      "        \"si\": {\n",
      "            \"ssippi$\": 3,\n",
      "            \"ppi$\": 6\n",
      "        },\n",
      "        \"i\": {\n",
      "            \"ssippi$\": 4,\n",
      "            \"ppi$\": 7\n",
      "        }\n",
      "    },\n",
      "    \"i\": {\n",
      "        \"ssi\": {\n",
      "            \"ssippi$\": 2,\n",
      "            \"ppi$\": 5\n",
      "        },\n",
      "        \"ppi$\": 8,\n",
      "        \"$\": 11\n",
      "    },\n",
      "    \"p\": {\n",
      "        \"pi$\": 9,\n",
      "        \"i$\": 10\n",
      "    }\n",
      "}\n"
     ]
    }
   ],
   "source": [
    "st = suffix.SuffixTree(\"mississippi\")\n",
    "print(st)"
   ]
  },
  {
   "cell_type": "markdown",
   "metadata": {},
   "source": [
    "## Pattern Search"
   ]
  },
  {
   "cell_type": "code",
   "execution_count": 3,
   "metadata": {},
   "outputs": [
    {
     "name": "stdout",
     "output_type": "stream",
     "text": [
      "'si' found at index 4: 'sissippi$'\n",
      "'si' found at index 7: 'sippi$'\n"
     ]
    },
    {
     "data": {
      "text/plain": [
       "[4, 7]"
      ]
     },
     "execution_count": 3,
     "metadata": {},
     "output_type": "execute_result"
    }
   ],
   "source": [
    "st.find_pattern(\"si\")"
   ]
  },
  {
   "cell_type": "code",
   "execution_count": 4,
   "metadata": {},
   "outputs": [
    {
     "name": "stdout",
     "output_type": "stream",
     "text": [
      "'mi' found at index 1: 'mississippi$'\n"
     ]
    },
    {
     "data": {
      "text/plain": [
       "[1]"
      ]
     },
     "execution_count": 4,
     "metadata": {},
     "output_type": "execute_result"
    }
   ],
   "source": [
    "st.find_pattern(\"mi\")"
   ]
  },
  {
   "cell_type": "code",
   "execution_count": 5,
   "metadata": {},
   "outputs": [
    {
     "data": {
      "text/plain": [
       "[]"
      ]
     },
     "execution_count": 5,
     "metadata": {},
     "output_type": "execute_result"
    }
   ],
   "source": [
    "st.find_pattern(\"o\")"
   ]
  },
  {
   "cell_type": "markdown",
   "metadata": {},
   "source": [
    "## Longest Repeated Substring"
   ]
  },
  {
   "cell_type": "code",
   "execution_count": 6,
   "metadata": {},
   "outputs": [
    {
     "data": {
      "text/plain": [
       "'issi'"
      ]
     },
     "execution_count": 6,
     "metadata": {},
     "output_type": "execute_result"
    }
   ],
   "source": [
    "st.get_longest_repetition()"
   ]
  },
  {
   "cell_type": "markdown",
   "metadata": {},
   "source": [
    "## Memory Size\n",
    "Big and bulky due to big object sizes, could be reduced by replacing dict with array"
   ]
  },
  {
   "cell_type": "code",
   "execution_count": 7,
   "metadata": {},
   "outputs": [
    {
     "name": "stdout",
     "output_type": "stream",
     "text": [
      "Total size: 2.78KiB\n",
      "==> 259B per character\n"
     ]
    }
   ],
   "source": [
    "st.print_tree_size()"
   ]
  },
  {
   "cell_type": "markdown",
   "metadata": {
    "collapsed": false
   },
   "source": [
    "---\n",
    "## Suffix Array (from Tree)"
   ]
  },
  {
   "cell_type": "code",
   "execution_count": 8,
   "metadata": {
    "collapsed": false
   },
   "outputs": [
    {
     "name": "stdout",
     "output_type": "stream",
     "text": [
      "11: i$\n",
      " 8: ippi$\n",
      " 5: issippi$\n",
      " 2: ississippi$\n",
      " 1: mississippi$\n",
      "10: pi$\n",
      " 9: ppi$\n",
      " 7: sippi$\n",
      " 4: sissippi$\n",
      " 6: ssippi$\n",
      " 3: ssissippi$\n",
      "\n"
     ]
    }
   ],
   "source": [
    "sa = suffix.SuffixArray(st)\n",
    "print(sa)"
   ]
  },
  {
   "cell_type": "markdown",
   "metadata": {},
   "source": [
    "## Pattern Search"
   ]
  },
  {
   "cell_type": "code",
   "execution_count": 9,
   "metadata": {},
   "outputs": [
    {
     "name": "stdout",
     "output_type": "stream",
     "text": [
      "'si' found at index 7: 'sippi$'\n",
      "'si' found at index 4: 'sissippi$'\n"
     ]
    },
    {
     "data": {
      "text/plain": [
       "[7, 4]"
      ]
     },
     "execution_count": 9,
     "metadata": {},
     "output_type": "execute_result"
    }
   ],
   "source": [
    "sa.find_pattern(\"si\")"
   ]
  },
  {
   "cell_type": "code",
   "execution_count": 10,
   "metadata": {},
   "outputs": [
    {
     "name": "stdout",
     "output_type": "stream",
     "text": [
      "'mi' found at index 1: 'mississippi$'\n"
     ]
    },
    {
     "data": {
      "text/plain": [
       "[1]"
      ]
     },
     "execution_count": 10,
     "metadata": {},
     "output_type": "execute_result"
    }
   ],
   "source": [
    "sa.find_pattern(\"mi\")"
   ]
  },
  {
   "cell_type": "code",
   "execution_count": 11,
   "metadata": {},
   "outputs": [
    {
     "data": {
      "text/plain": [
       "[]"
      ]
     },
     "execution_count": 11,
     "metadata": {},
     "output_type": "execute_result"
    }
   ],
   "source": [
    "sa.find_pattern(\"o\")"
   ]
  },
  {
   "cell_type": "markdown",
   "metadata": {},
   "source": [
    "## Memory Size\n",
    "Smaller than tree... *cough* Python *cough*"
   ]
  },
  {
   "cell_type": "code",
   "execution_count": 12,
   "metadata": {},
   "outputs": [
    {
     "name": "stdout",
     "output_type": "stream",
     "text": [
      "Total size: 1.50KiB\n",
      "==> 140B per character\n"
     ]
    }
   ],
   "source": [
    "sa.print_size()"
   ]
  }
 ],
 "metadata": {
  "kernelspec": {
   "display_name": "Python 3.10.7 64-bit",
   "language": "python",
   "name": "python3"
  },
  "language_info": {
   "codemirror_mode": {
    "name": "ipython",
    "version": 3
   },
   "file_extension": ".py",
   "mimetype": "text/x-python",
   "name": "python",
   "nbconvert_exporter": "python",
   "pygments_lexer": "ipython3",
   "version": "3.10.8"
  },
  "orig_nbformat": 4,
  "vscode": {
   "interpreter": {
    "hash": "e7370f93d1d0cde622a1f8e1c04877d8463912d04d973331ad4851f04de6915a"
   }
  }
 },
 "nbformat": 4,
 "nbformat_minor": 2
}
